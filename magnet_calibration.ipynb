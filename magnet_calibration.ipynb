{
 "cells": [
  {
   "cell_type": "code",
   "execution_count": 15,
   "metadata": {},
   "outputs": [],
   "source": [
    "import os\n",
    "import numpy as np\n",
    "import pandas as pd\n",
    "import matplotlib.pyplot as plt\n",
    "import plotly.express as px\n",
    "import math as m\n",
    "from processing import read_csv"
   ]
  },
  {
   "cell_type": "code",
   "execution_count": 16,
   "metadata": {},
   "outputs": [
    {
     "name": "stdout",
     "output_type": "stream",
     "text": [
      "    current  trial1  trial2  trial3\n",
      "0      -1.0  -39.80  -39.70  -39.10\n",
      "1      -0.9  -35.60  -35.60  -35.00\n",
      "2      -0.8  -31.50  -31.50  -31.00\n",
      "3      -0.7  -27.93  -27.89  -27.44\n",
      "4      -0.6  -23.97  -23.78  -23.38\n",
      "5      -0.5  -20.07  -19.67  -19.33\n",
      "6      -0.4  -16.22  -15.56  -15.29\n",
      "7      -0.3  -12.42  -11.46  -11.24\n",
      "8      -0.2   -8.68   -7.41   -7.27\n",
      "9      -0.1   -5.03   -3.76   -2.86\n",
      "10      0.1    2.75    4.68    3.88\n",
      "11      0.2    6.86    8.42    7.57\n",
      "12      0.3   11.04   12.25   11.33\n",
      "13      0.4   15.15   16.12   15.14\n",
      "14      0.5   19.31   20.04   19.02\n",
      "15      0.6   23.46   23.99   23.01\n",
      "16      0.7   27.63   27.98   27.06\n",
      "17      0.8   32.30   32.50   31.60\n",
      "18      0.9   36.50   36.50   35.70\n",
      "19      1.0   40.60   40.50   39.70\n"
     ]
    }
   ],
   "source": [
    "data = pd.read_csv('./data/selected_for_analysis/magnet_calibration.csv', sep=',')\n",
    "df_magnet = pd.DataFrame(data, columns = ['current', 'trial1', 'trial2', 'trial3'])\n",
    "        \n",
    "print(df_magnet)\n",
    "\n",
    "current = df_magnet['current']\n",
    "trial1 = df_magnet['trial1']\n",
    "trial2 = df_magnet['trial2']\n",
    "trial3 = df_magnet['trial3']"
   ]
  },
  {
   "cell_type": "code",
   "execution_count": 17,
   "metadata": {},
   "outputs": [
    {
     "data": {
      "text/plain": [
       "0    -1.0\n",
       "1    -0.9\n",
       "2    -0.8\n",
       "3    -0.7\n",
       "4    -0.6\n",
       "5    -0.5\n",
       "6    -0.4\n",
       "7    -0.3\n",
       "8    -0.2\n",
       "9    -0.1\n",
       "10    0.1\n",
       "11    0.2\n",
       "12    0.3\n",
       "13    0.4\n",
       "14    0.5\n",
       "15    0.6\n",
       "16    0.7\n",
       "17    0.8\n",
       "18    0.9\n",
       "19    1.0\n",
       "Name: current, dtype: float64"
      ]
     },
     "execution_count": 17,
     "metadata": {},
     "output_type": "execute_result"
    }
   ],
   "source": [
    "current"
   ]
  },
  {
   "cell_type": "code",
   "execution_count": null,
   "metadata": {},
   "outputs": [],
   "source": []
  },
  {
   "cell_type": "code",
   "execution_count": 18,
   "metadata": {},
   "outputs": [
    {
     "data": {
      "text/plain": [
       "<matplotlib.collections.PathCollection at 0x7fef833a0a30>"
      ]
     },
     "execution_count": 18,
     "metadata": {},
     "output_type": "execute_result"
    },
    {
     "data": {
      "image/png": "[encoded data removed]",
      "text/plain": [
       "<Figure size 432x288 with 1 Axes>"
      ]
     },
     "metadata": {
      "needs_background": "light"
     },
     "output_type": "display_data"
    }
   ],
   "source": [
    "plt.scatter(current, trial1)\n",
    "plt.scatter(current, trial2)\n",
    "plt.scatter(current, trial3)"
   ]
  },
  {
   "cell_type": "code",
   "execution_count": 19,
   "metadata": {},
   "outputs": [
    {
     "name": "stdout",
     "output_type": "stream",
     "text": [
      "60\n",
      "60\n"
     ]
    }
   ],
   "source": [
    "all_trials = np.concatenate((trial1.values, trial2.values, trial3.values))\n",
    "print(all_trials.size)\n",
    "all_currents = np.concatenate((current.values, current.values, current.values))\n",
    "print(all_currents.size)"
   ]
  },
  {
   "cell_type": "code",
   "execution_count": 20,
   "metadata": {
    "scrolled": true
   },
   "outputs": [
    {
     "name": "stdout",
     "output_type": "stream",
     "text": [
      "y = ax+b\n",
      "a = 39.60203463203462\n",
      "b = 0.052166666666667146\n"
     ]
    },
    {
     "data": {
      "image/png": "[encoded data removed]",
      "text/plain": [
       "<Figure size 432x288 with 1 Axes>"
      ]
     },
     "metadata": {
      "needs_background": "light"
     },
     "output_type": "display_data"
    }
   ],
   "source": [
    "a, b = np.polyfit(all_currents, all_trials, 1)\n",
    "\n",
    "plt.scatter(all_currents, all_trials)\n",
    "plt.plot(all_currents, a*all_currents+b)\n",
    "print('y = ax+b')\n",
    "print(f'a = {a}')\n",
    "print(f'b = {b}')"
   ]
  },
  {
   "cell_type": "code",
   "execution_count": 21,
   "metadata": {},
   "outputs": [
    {
     "name": "stdout",
     "output_type": "stream",
     "text": [
      "A current of 0.1 is equivalent to:\n",
      "4.0123701298701295 mT\n"
     ]
    }
   ],
   "source": [
    "#Calculate equivalent field in mT from specific input current\n",
    "specific_input_current = 0.1\n",
    "\n",
    "y = a*specific_input_current+b\n",
    "print(f'A current of {specific_input_current} is equivalent to:')\n",
    "print(f'{y} mT')"
   ]
  },
  {
   "cell_type": "code",
   "execution_count": null,
   "metadata": {},
   "outputs": [],
   "source": []
  },
  {
   "cell_type": "code",
   "execution_count": null,
   "metadata": {},
   "outputs": [],
   "source": []
  },
  {
   "cell_type": "code",
   "execution_count": null,
   "metadata": {},
   "outputs": [],
   "source": []
  }
 ],
 "metadata": {
  "kernelspec": {
   "display_name": "Python 3",
   "language": "python",
   "name": "python3"
  },
  "language_info": {
   "codemirror_mode": {
    "name": "ipython",
    "version": 3
   },
   "file_extension": ".py",
   "mimetype": "text/x-python",
   "name": "python",
   "nbconvert_exporter": "python",
   "pygments_lexer": "ipython3",
   "version": "3.8.5"
  }
 },
 "nbformat": 4,
 "nbformat_minor": 4
}
